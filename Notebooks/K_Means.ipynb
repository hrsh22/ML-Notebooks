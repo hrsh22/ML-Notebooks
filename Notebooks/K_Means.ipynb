{
  "nbformat": 4,
  "nbformat_minor": 0,
  "metadata": {
    "colab": {
      "provenance": []
    },
    "kernelspec": {
      "name": "python3",
      "display_name": "Python 3"
    },
    "language_info": {
      "name": "python"
    }
  },
  "cells": [
    {
      "cell_type": "code",
      "execution_count": null,
      "metadata": {
        "colab": {
          "base_uri": "https://localhost:8080/"
        },
        "id": "z-v9TLCDaWEx",
        "outputId": "998a4e28-8cb4-460a-d32e-a3f049c5d1fd"
      },
      "outputs": [
        {
          "output_type": "stream",
          "name": "stdout",
          "text": [
            "Mounted at /content/drive\n"
          ]
        }
      ],
      "source": [
        "import numpy as np\n",
        "import matplotlib.pyplot as plt\n",
        "import pandas as pd\n",
        "from google.colab import drive\n",
        "drive.mount('/content/drive')"
      ]
    },
    {
      "cell_type": "code",
      "source": [
        "dataset = pd.read_csv('/content/drive/My Drive/IRIS.csv')\n"
      ],
      "metadata": {
        "id": "DWVh_G-yad3k"
      },
      "execution_count": null,
      "outputs": []
    },
    {
      "cell_type": "code",
      "source": [
        "ds=dataset"
      ],
      "metadata": {
        "id": "PGnFE6ARnNil"
      },
      "execution_count": null,
      "outputs": []
    },
    {
      "cell_type": "markdown",
      "source": [
        "### Step 1 and 2 - Choose the number of clusters (k) and select random centroid for each cluster"
      ],
      "metadata": {
        "id": "47mKgGAfV4Xg"
      }
    },
    {
      "cell_type": "code",
      "source": [
        "#number of clusters\n",
        "K=3\n",
        "# Select random observation as centroids\n",
        "Centroids = (ds.sample(n=K))\n",
        "plt.scatter(ds[\"sepal_length\"],ds[\"sepal_width\"],c='black')\n",
        "plt.scatter(Centroids[\"sepal_length\"],Centroids[\"sepal_width\"],c='red')\n",
        "plt.xlabel('sepal_length')\n",
        "plt.ylabel('sepal_width')\n",
        "plt.show()"
      ],
      "metadata": {
        "colab": {
          "base_uri": "https://localhost:8080/",
          "height": 283
        },
        "id": "sLijaHDWLcNP",
        "outputId": "7f84281c-7d33-4762-dc36-74b84514ddac"
      },
      "execution_count": null,
      "outputs": [
        {
          "output_type": "display_data",
          "data": {
            "text/plain": [
              "<Figure size 432x288 with 1 Axes>"
            ],
            "image/png": "[encoded data removed]"
          },
          "metadata": {
            "needs_background": "light"
          }
        }
      ]
    },
    {
      "cell_type": "markdown",
      "source": [
        "### Step 3 - Assign all the points to the closest cluster centroid\n",
        "### Step 4 - Recompute centroids of newly formed clusters\n",
        "### Step 5 - Repeat step 3 and 4"
      ],
      "metadata": {
        "id": "IEngdm8LWA5U"
      }
    },
    {
      "cell_type": "code",
      "source": [
        "diff = 1\n",
        "j=0\n",
        "\n",
        "while(diff!=0):\n",
        "    XD=ds\n",
        "    i=1\n",
        "    for index1,row_c in Centroids.iterrows():\n",
        "        ED=[]\n",
        "        for index2,row_d in XD.iterrows():\n",
        "            d1=(row_c[\"sepal_length\"]-row_d[\"sepal_length\"])**2\n",
        "            d2=(row_c[\"sepal_width\"]-row_d[\"sepal_width\"])**2\n",
        "            d=np.sqrt(d1+d2)\n",
        "            ED.append(d)\n",
        "        ds[i]=ED\n",
        "        i=i+1\n",
        "\n",
        "    C=[]\n",
        "    for index,row in ds.iterrows():\n",
        "        min_dist=row[1]\n",
        "        pos=1\n",
        "        for i in range(K):\n",
        "            if row[i+1] < min_dist:\n",
        "                min_dist = row[i+1]\n",
        "                pos=i+1\n",
        "        C.append(pos)\n",
        "    ds[\"Cluster\"]=C\n",
        "    Centroids_new = ds.groupby([\"Cluster\"]).mean()[[\"sepal_length\",\"sepal_width\"]]\n",
        "    if j == 0:\n",
        "        diff=1\n",
        "        j=j+1\n",
        "    else:\n",
        "        diff = (Centroids_new['sepal_length'] - Centroids['sepal_length']).sum() + (Centroids_new['sepal_width'] - Centroids['sepal_width']).sum()\n",
        "        print(diff.sum())\n",
        "    Centroids = ds.groupby([\"Cluster\"]).mean()[[\"sepal_length\",\"sepal_width\"]]"
      ],
      "metadata": {
        "colab": {
          "base_uri": "https://localhost:8080/"
        },
        "id": "l1J8eoelMiUO",
        "outputId": "769a08af-696d-4b67-aa52-db38634a846e"
      },
      "execution_count": null,
      "outputs": [
        {
          "output_type": "stream",
          "name": "stdout",
          "text": [
            "-0.06330698287219994\n",
            "0.010462291277231639\n",
            "-0.00535107931118084\n",
            "-0.09012514683292716\n",
            "-0.05495492449853501\n",
            "-0.05770208567395496\n",
            "-0.025976611108189385\n",
            "-0.053966876810870534\n",
            "-0.006053958270940463\n",
            "-0.03355142599045191\n",
            "-0.03095307744276532\n",
            "-0.058061021665672286\n",
            "-0.0029027576197382388\n",
            "-0.0016218921046897705\n",
            "-0.02893719806763384\n",
            "0.0\n"
          ]
        }
      ]
    },
    {
      "cell_type": "code",
      "source": [
        "color=['blue','green','yellow']\n",
        "for k in range(K):\n",
        "    data=ds[ds[\"Cluster\"]==k+1]\n",
        "    plt.scatter(data[\"sepal_length\"],data[\"sepal_width\"],c=color[k])\n",
        "plt.scatter(Centroids[\"sepal_length\"],Centroids[\"sepal_width\"],c='red')\n",
        "plt.xlabel('sepal_length')\n",
        "plt.ylabel('sepal_width')\n",
        "plt.show()"
      ],
      "metadata": {
        "colab": {
          "base_uri": "https://localhost:8080/",
          "height": 283
        },
        "id": "xUDCwODpOXaP",
        "outputId": "777de0a8-30fb-47e8-8734-91e4b8acfafe"
      },
      "execution_count": null,
      "outputs": [
        {
          "output_type": "display_data",
          "data": {
            "text/plain": [
              "<Figure size 432x288 with 1 Axes>"
            ],
            "image/png": "[encoded data removed]"
          },
          "metadata": {
            "needs_background": "light"
          }
        }
      ]
    },
    {
      "cell_type": "code",
      "source": [],
      "metadata": {
        "id": "9QDuiZCTuCUD"
      },
      "execution_count": null,
      "outputs": []
    }
  ]
}