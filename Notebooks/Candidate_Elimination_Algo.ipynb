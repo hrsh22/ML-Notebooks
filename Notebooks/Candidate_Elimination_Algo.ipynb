{
  "nbformat": 4,
  "nbformat_minor": 0,
  "metadata": {
    "colab": {
      "provenance": []
    },
    "kernelspec": {
      "name": "python3",
      "display_name": "Python 3"
    },
    "language_info": {
      "name": "python"
    }
  },
  "cells": [
    {
      "cell_type": "code",
      "source": [
        "import numpy as np \n",
        "import pandas as pd"
      ],
      "metadata": {
        "id": "tEz9adI2KOR2"
      },
      "execution_count": null,
      "outputs": []
    },
    {
      "cell_type": "code",
      "source": [
        "data = pd.read_csv(\"Data.csv\")\n",
        "concepts = np.array(data.iloc[:,0:-1])\n",
        "print(\"\\nInstances are:\\n\",concepts)\n",
        "target = np.array(data.iloc[:,-1])\n",
        "print(\"\\nTarget Values are: \",target)"
      ],
      "metadata": {
        "colab": {
          "base_uri": "https://localhost:8080/"
        },
        "id": "Fl9dfjeiKQqd",
        "outputId": "804ae4c9-3022-4f3c-8327-2bad2699dec5"
      },
      "execution_count": null,
      "outputs": [
        {
          "output_type": "stream",
          "name": "stdout",
          "text": [
            "\n",
            "Instances are:\n",
            " [['France' 44.0 72000.0]\n",
            " ['Spain' 27.0 48000.0]\n",
            " ['Germany' 30.0 54000.0]\n",
            " ['Spain' 38.0 61000.0]\n",
            " ['Germany' 40.0 nan]\n",
            " ['France' 35.0 58000.0]\n",
            " ['Spain' nan 52000.0]\n",
            " ['France' 48.0 79000.0]\n",
            " ['Germany' 50.0 83000.0]\n",
            " ['France' 37.0 67000.0]]\n",
            "\n",
            "Target Values are:  ['No' 'Yes' 'No' 'No' 'Yes' 'Yes' 'No' 'Yes' 'No' 'Yes']\n"
          ]
        }
      ]
    },
    {
      "cell_type": "code",
      "execution_count": null,
      "metadata": {
        "id": "HoeQUY4yHNoS"
      },
      "outputs": [],
      "source": [
        "def CandidateElimination(concepts, target): \n",
        "    specific_h = concepts[0].copy()\n",
        "    print(\"\\nInitialization of specific_h and genearal_h\")\n",
        "    print(\"\\nSpecific Boundary: \", specific_h)\n",
        "    general_h = [[\"?\" for i in range(len(specific_h))] for i in range(len(specific_h))]\n",
        "    print(\"\\nGeneric Boundary: \",general_h)  \n",
        "\n",
        "    for i, h in enumerate(concepts):\n",
        "        print(\"\\nInstance\", i+1 , \"is \", h)\n",
        "        if target[i] == \"Yes\":\n",
        "            print(\"Instance is Positive \")\n",
        "            for x in range(len(specific_h)): \n",
        "                if h[x]!= specific_h[x]:                    \n",
        "                    specific_h[x] ='?'                     \n",
        "                    general_h[x][x] ='?'\n",
        "                   \n",
        "        if target[i] == \"No\":            \n",
        "            print(\"Instance is Negative \")\n",
        "            for x in range(len(specific_h)): \n",
        "                if h[x]!= specific_h[x]:                    \n",
        "                    general_h[x][x] = specific_h[x]                \n",
        "                else:                    \n",
        "                    general_h[x][x] = '?'        \n",
        "        \n",
        "        print(\"Specific Bundary after \", i+1, \"Instance is \", specific_h)         \n",
        "        print(\"Generic Boundary after \", i+1, \"Instance is \", general_h)\n",
        "        print(\"\\n\")\n",
        "\n",
        "    indices = [i for i, val in enumerate(general_h) if val == ['?', '?', '?', '?', '?', '?']]    \n",
        "    for i in indices:   \n",
        "        general_h.remove(['?', '?', '?', '?', '?', '?']) \n",
        "    return specific_h, general_h"
      ]
    },
    {
      "cell_type": "code",
      "source": [
        "s_final, g_final = CandidateElimination(concepts, target)"
      ],
      "metadata": {
        "colab": {
          "base_uri": "https://localhost:8080/"
        },
        "id": "yo2diQi7Kady",
        "outputId": "fb30a57e-a8bb-4927-b743-53d2b2f0a73b"
      },
      "execution_count": null,
      "outputs": [
        {
          "output_type": "stream",
          "name": "stdout",
          "text": [
            "\n",
            "Initialization of specific_h and genearal_h\n",
            "\n",
            "Specific Boundary:  ['France' 44.0 72000.0]\n",
            "\n",
            "Generic Boundary:  [['?', '?', '?'], ['?', '?', '?'], ['?', '?', '?']]\n",
            "\n",
            "Instance 1 is  ['France' 44.0 72000.0]\n",
            "Instance is Negative \n",
            "Specific Bundary after  1 Instance is  ['France' 44.0 72000.0]\n",
            "Generic Boundary after  1 Instance is  [['?', '?', '?'], ['?', '?', '?'], ['?', '?', '?']]\n",
            "\n",
            "\n",
            "\n",
            "Instance 2 is  ['Spain' 27.0 48000.0]\n",
            "Instance is Positive \n",
            "Specific Bundary after  2 Instance is  ['?' '?' '?']\n",
            "Generic Boundary after  2 Instance is  [['?', '?', '?'], ['?', '?', '?'], ['?', '?', '?']]\n",
            "\n",
            "\n",
            "\n",
            "Instance 3 is  ['Germany' 30.0 54000.0]\n",
            "Instance is Negative \n",
            "Specific Bundary after  3 Instance is  ['?' '?' '?']\n",
            "Generic Boundary after  3 Instance is  [['?', '?', '?'], ['?', '?', '?'], ['?', '?', '?']]\n",
            "\n",
            "\n",
            "\n",
            "Instance 4 is  ['Spain' 38.0 61000.0]\n",
            "Instance is Negative \n",
            "Specific Bundary after  4 Instance is  ['?' '?' '?']\n",
            "Generic Boundary after  4 Instance is  [['?', '?', '?'], ['?', '?', '?'], ['?', '?', '?']]\n",
            "\n",
            "\n",
            "\n",
            "Instance 5 is  ['Germany' 40.0 nan]\n",
            "Instance is Positive \n",
            "Specific Bundary after  5 Instance is  ['?' '?' '?']\n",
            "Generic Boundary after  5 Instance is  [['?', '?', '?'], ['?', '?', '?'], ['?', '?', '?']]\n",
            "\n",
            "\n",
            "\n",
            "Instance 6 is  ['France' 35.0 58000.0]\n",
            "Instance is Positive \n",
            "Specific Bundary after  6 Instance is  ['?' '?' '?']\n",
            "Generic Boundary after  6 Instance is  [['?', '?', '?'], ['?', '?', '?'], ['?', '?', '?']]\n",
            "\n",
            "\n",
            "\n",
            "Instance 7 is  ['Spain' nan 52000.0]\n",
            "Instance is Negative \n",
            "Specific Bundary after  7 Instance is  ['?' '?' '?']\n",
            "Generic Boundary after  7 Instance is  [['?', '?', '?'], ['?', '?', '?'], ['?', '?', '?']]\n",
            "\n",
            "\n",
            "\n",
            "Instance 8 is  ['France' 48.0 79000.0]\n",
            "Instance is Positive \n",
            "Specific Bundary after  8 Instance is  ['?' '?' '?']\n",
            "Generic Boundary after  8 Instance is  [['?', '?', '?'], ['?', '?', '?'], ['?', '?', '?']]\n",
            "\n",
            "\n",
            "\n",
            "Instance 9 is  ['Germany' 50.0 83000.0]\n",
            "Instance is Negative \n",
            "Specific Bundary after  9 Instance is  ['?' '?' '?']\n",
            "Generic Boundary after  9 Instance is  [['?', '?', '?'], ['?', '?', '?'], ['?', '?', '?']]\n",
            "\n",
            "\n",
            "\n",
            "Instance 10 is  ['France' 37.0 67000.0]\n",
            "Instance is Positive \n",
            "Specific Bundary after  10 Instance is  ['?' '?' '?']\n",
            "Generic Boundary after  10 Instance is  [['?', '?', '?'], ['?', '?', '?'], ['?', '?', '?']]\n",
            "\n",
            "\n"
          ]
        }
      ]
    },
    {
      "cell_type": "code",
      "source": [
        "print(\"Final Specific_h: \", s_final, sep=\"\\n\")\n",
        "print(\"Final General_h: \", g_final, sep=\"\\n\")"
      ],
      "metadata": {
        "colab": {
          "base_uri": "https://localhost:8080/"
        },
        "id": "IbW12hn8KdXb",
        "outputId": "2d7207a2-077f-42c3-ac7f-784a823bd59c"
      },
      "execution_count": null,
      "outputs": [
        {
          "output_type": "stream",
          "name": "stdout",
          "text": [
            "Final Specific_h: \n",
            "['?' '?' '?']\n",
            "Final General_h: \n",
            "[['?', '?', '?'], ['?', '?', '?'], ['?', '?', '?']]\n"
          ]
        }
      ]
    }
  ]
}